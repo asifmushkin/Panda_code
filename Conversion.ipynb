{
 "cells": [
  {
   "cell_type": "markdown",
   "metadata": {},
   "source": [
    "#### Converting pdf into word document using python"
   ]
  },
  {
   "cell_type": "code",
   "execution_count": 21,
   "metadata": {},
   "outputs": [
    {
     "name": "stdout",
     "output_type": "stream",
     "text": [
      "Converted successfully\n"
     ]
    }
   ],
   "source": [
    "import PyPDF2\n",
    "from docx import Document\n",
    "\n",
    "path = r\"D:\\_2.Programming\\_1.Books\\Python Books\\Advanced Python Scripting for ArcGIS Pro -- Paul A. Zandbergen -- 1, 2020 -- Esri Press -- 9781589486195 -- 7de2add53283c5b5f55da9ee9b7b1dba -- Anna’s Archive.pdf\"\n",
    "path_word = r\"D:\\_2.Programming\\word.docx\"\n",
    "start_page = 10  # specify page start\n",
    "end_page = 20  # specify page end\n",
    "\n",
    "with open(path, 'rb') as file:\n",
    "    pdf_reader = PyPDF2.PdfReader(file)\n",
    "    num_pages = len(pdf_reader.pages)\n",
    "    doc = Document()\n",
    "\n",
    "    for page_num in range(start_page - 1, end_page):\n",
    "        page = pdf_reader.pages[page_num]\n",
    "        text = page.extract_text()\n",
    "\n",
    "        # Add the extracted text to the Word document\n",
    "        doc.add_paragraph(f\"Page {page_num + 1}:\\n{text}\\n\")\n",
    "\n",
    "    doc.save(path_word)\n",
    "\n",
    "print(\"Converted successfully\")"
   ]
  },
  {
   "cell_type": "markdown",
   "metadata": {},
   "source": [
    "#### Converting excel sheets into merge table"
   ]
  },
  {
   "cell_type": "code",
   "execution_count": null,
   "metadata": {},
   "outputs": [],
   "source": [
    "import arcpy,xlrd  # defining modules\n",
    "arcpy.env.workspace = r'C:\\Users\\asifi\\OneDrive\\Documents\\ArcGIS\\Projects\\MyProject\\MyProject.gdb' # workspace directory\n",
    "file_path = r\"D:\\Programming\\Jupyter_notebook\\dt_VedioKeycode.xlsx\" # file path directory\n",
    "wb = xlrd.open_workbook(file_path)  # Open the workbook\n",
    "sheet_names = wb.sheet_names()  # List all sheet names in the workbook\n",
    "for sheet in sheet_names: # iterate over sheets in workbook to convert into tables\n",
    "    arcpy.conversion.ExcelToTable(file_path,sheet+'_tbl',sheet) # converting excel to table\n",
    "\n",
    "tables = arcpy.ListTables() # list all tabels in workspace\n",
    "arcpy.management.Merge(tables,\"merge_tabl\") # merge all tables"
   ]
  },
  {
   "cell_type": "markdown",
   "metadata": {},
   "source": [
    "### Creating random password"
   ]
  },
  {
   "cell_type": "code",
   "execution_count": 26,
   "metadata": {},
   "outputs": [
    {
     "name": "stdout",
     "output_type": "stream",
     "text": [
      "p94nb41tx71c0dy0\n",
      "Y4PzRWY9gd\n",
      "4Q3@o9|9{:\n"
     ]
    }
   ],
   "source": [
    "# generating random password\n",
    "\n",
    "import random, string\n",
    "\n",
    "def random_password(length,num=False,strength='weak'):\n",
    "    lower = string.ascii_lowercase\n",
    "    upper = string.ascii_uppercase\n",
    "    letter = lower + upper\n",
    "    dig = string.digits\n",
    "    punct = string.punctuation\n",
    "    pwd = ''\n",
    "    if strength == 'weak':\n",
    "        if num:\n",
    "            length -= 2\n",
    "            for i in range(length):\n",
    "                pwd += random.choice(dig)\n",
    "        for i in range(length):\n",
    "            pwd += random.choice(lower)\n",
    "\n",
    "    elif strength == 'strong':\n",
    "        if num:\n",
    "            length -= 2\n",
    "            for i in range(2):\n",
    "                pwd += random.choice(dig)\n",
    "        for i in range(length):\n",
    "            pwd += random.choice(letter)\n",
    "\n",
    "    elif strength == 'very strong':\n",
    "        ran = random.randint(2,4)\n",
    "        if num:\n",
    "            length -= ran\n",
    "            for i in range(ran):\n",
    "                pwd += random.choice(dig)\n",
    "            length -= ran\n",
    "            for i in range(ran):\n",
    "                pwd += random.choice(punct)\n",
    "            for i in range(length):\n",
    "                pwd += random.choice(letter)\n",
    "\n",
    "    pwd = list(pwd)\n",
    "    random.shuffle(pwd)\n",
    "    return ''.join(pwd)\n",
    "\n",
    "\n",
    "        \n",
    "    \n",
    "\n",
    "print(random_password(10, num=True))\n",
    "print(random_password(10, num =True,strength='strong'))\n",
    "print(random_password(10, num =True, strength='very strong'))\n"
   ]
  }
 ],
 "metadata": {
  "kernelspec": {
   "display_name": "Python 3",
   "language": "python",
   "name": "python3"
  },
  "language_info": {
   "codemirror_mode": {
    "name": "ipython",
    "version": 3
   },
   "file_extension": ".py",
   "mimetype": "text/x-python",
   "name": "python",
   "nbconvert_exporter": "python",
   "pygments_lexer": "ipython3",
   "version": "3.11.2"
  }
 },
 "nbformat": 4,
 "nbformat_minor": 2
}
